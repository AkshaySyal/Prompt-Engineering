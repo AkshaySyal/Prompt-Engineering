{
  "cells": [
    {
      "cell_type": "markdown",
      "id": "e930bb25",
      "metadata": {
        "id": "e930bb25"
      },
      "source": [
        "In this exercise, you will perform prompt engineering on a dialogue summarization task using [Flan-T5](https://huggingface.co/google/flan-t5-large) and the [dialogsum dataset](https://huggingface.co/datasets/knkarthick/dialogsum). You will explore how different prompts affect the output of the model, and compare zero-shot and few-shot inferences. <br/>\n",
        "Complete the code in the cells below."
      ]
    },
    {
      "cell_type": "markdown",
      "id": "70e35b68",
      "metadata": {
        "id": "70e35b68"
      },
      "source": [
        "### 1. Set up Required Dependencies"
      ]
    },
    {
      "cell_type": "code",
      "execution_count": 1,
      "id": "676e6529",
      "metadata": {
        "colab": {
          "base_uri": "https://localhost:8080/"
        },
        "id": "676e6529",
        "outputId": "60c071d8-c63c-4994-adaf-e3a9ade913f7"
      },
      "outputs": [
        {
          "output_type": "stream",
          "name": "stdout",
          "text": [
            "\u001b[2K     \u001b[90m━━━━━━━━━━━━━━━━━━━━━━━━━━━━━━━━━━━━━━━━\u001b[0m \u001b[32m510.5/510.5 kB\u001b[0m \u001b[31m5.5 MB/s\u001b[0m eta \u001b[36m0:00:00\u001b[0m\n",
            "\u001b[2K     \u001b[90m━━━━━━━━━━━━━━━━━━━━━━━━━━━━━━━━━━━━━━━━\u001b[0m \u001b[32m116.3/116.3 kB\u001b[0m \u001b[31m8.8 MB/s\u001b[0m eta \u001b[36m0:00:00\u001b[0m\n",
            "\u001b[2K     \u001b[90m━━━━━━━━━━━━━━━━━━━━━━━━━━━━━━━━━━━━━━━━\u001b[0m \u001b[32m194.1/194.1 kB\u001b[0m \u001b[31m8.9 MB/s\u001b[0m eta \u001b[36m0:00:00\u001b[0m\n",
            "\u001b[2K     \u001b[90m━━━━━━━━━━━━━━━━━━━━━━━━━━━━━━━━━━━━━━━━\u001b[0m \u001b[32m134.8/134.8 kB\u001b[0m \u001b[31m7.3 MB/s\u001b[0m eta \u001b[36m0:00:00\u001b[0m\n",
            "\u001b[?25h"
          ]
        }
      ],
      "source": [
        "!pip install datasets -q"
      ]
    },
    {
      "cell_type": "code",
      "execution_count": 34,
      "id": "fddfaae5",
      "metadata": {
        "id": "fddfaae5"
      },
      "outputs": [],
      "source": [
        "from transformers import AutoModelForSeq2SeqLM, AutoTokenizer, GenerationConfig\n",
        "from datasets import load_dataset"
      ]
    },
    {
      "cell_type": "markdown",
      "id": "OH-HZBXf5YDl",
      "metadata": {
        "id": "OH-HZBXf5YDl"
      },
      "source": [
        "### 2. Explore the Dataset"
      ]
    },
    {
      "cell_type": "code",
      "execution_count": 33,
      "id": "5247b70a",
      "metadata": {
        "id": "5247b70a"
      },
      "outputs": [],
      "source": [
        "from datasets import load_dataset\n",
        "\n",
        "dataset = load_dataset('knkarthick/dialogsum')"
      ]
    },
    {
      "cell_type": "markdown",
      "id": "854c131e",
      "metadata": {
        "id": "854c131e"
      },
      "source": [
        "Print several dialogues with their baseline summaries."
      ]
    },
    {
      "cell_type": "code",
      "execution_count": 26,
      "id": "65a8e4d3",
      "metadata": {
        "colab": {
          "base_uri": "https://localhost:8080/"
        },
        "id": "65a8e4d3",
        "outputId": "9c62efbe-fb17-47f5-da7d-b26e3e21cca2"
      },
      "outputs": [
        {
          "output_type": "stream",
          "name": "stdout",
          "text": [
            "----------------------------------------------------------------------------------------------------\n",
            "Example 1\n",
            "----------------------------------------------------------------------------------------------------\n",
            "INPUT DIALOGUE:\n",
            "#Person1#: Ms. Dawson, I need you to take a dictation for me.\n",
            "#Person2#: Yes, sir...\n",
            "#Person1#: This should go out as an intra-office memorandum to all employees by this afternoon. Are you ready?\n",
            "#Person2#: Yes, sir. Go ahead.\n",
            "#Person1#: Attention all staff... Effective immediately, all office communications are restricted to email correspondence and official memos. The use of Instant Message programs by employees during working hours is strictly prohibited.\n",
            "#Person2#: Sir, does this apply to intra-office communications only? Or will it also restrict external communications?\n",
            "#Person1#: It should apply to all communications, not only in this office between employees, but also any outside communications.\n",
            "#Person2#: But sir, many employees use Instant Messaging to communicate with their clients.\n",
            "#Person1#: They will just have to change their communication methods. I don't want any - one using Instant Messaging in this office. It wastes too much time! Now, please continue with the memo. Where were we?\n",
            "#Person2#: This applies to internal and external communications.\n",
            "#Person1#: Yes. Any employee who persists in using Instant Messaging will first receive a warning and be placed on probation. At second offense, the employee will face termination. Any questions regarding this new policy may be directed to department heads.\n",
            "#Person2#: Is that all?\n",
            "#Person1#: Yes. Please get this memo typed up and distributed to all employees before 4 pm.\n",
            "----------------------------------------------------------------------------------------------------\n",
            "BASELINE HUMAN SUMMARY:\n",
            "Ms. Dawson helps #Person1# to write a memo to inform every employee that they have to change the communication method and should not use Instant Messaging anymore.\n",
            "----------------------------------------------------------------------------------------------------\n",
            "\n",
            "----------------------------------------------------------------------------------------------------\n",
            "Example 2\n",
            "----------------------------------------------------------------------------------------------------\n",
            "INPUT DIALOGUE:\n",
            "#Person1#: I don't know how to adjust my life. Would you give me a piece of advice?\n",
            "#Person2#: You look a bit pale, don't you?\n",
            "#Person1#: Yes, I can't sleep well every night.\n",
            "#Person2#: You should get plenty of sleep.\n",
            "#Person1#: I drink a lot of wine.\n",
            "#Person2#: If I were you, I wouldn't drink too much.\n",
            "#Person1#: I often feel so tired.\n",
            "#Person2#: You better do some exercise every morning.\n",
            "#Person1#: I sometimes find the shadow of death in front of me.\n",
            "#Person2#: Why do you worry about your future? You're very young, and you'll make great contribution to the world. I hope you take my advice.\n",
            "----------------------------------------------------------------------------------------------------\n",
            "BASELINE HUMAN SUMMARY:\n",
            "#Person1# wants to adjust #Person1#'s life and #Person2# suggests #Person1# be positive and stay healthy.\n",
            "----------------------------------------------------------------------------------------------------\n",
            "\n",
            "----------------------------------------------------------------------------------------------------\n",
            "Example 3\n",
            "----------------------------------------------------------------------------------------------------\n",
            "INPUT DIALOGUE:\n",
            "#Person1#: Dad, you keep talking about family in New Zealand. Who are they?\n",
            "#Person2#: Well, that's your uncle Bill, his wife and two of their daughters.\n",
            "#Person1#: Is uncle Bill your brother?\n",
            "#Person2#: No, your uncle Jack is my brother, Bill is my brother-in-law, your mom's brother.\n",
            "#Person1#: So his two daughters are my cousins?\n",
            "#Person2#: That's right, Sarah and Jane are both your cousins although they are step-sisters.\n",
            "#Person1#: What are step-sisters?\n",
            "#Person2#: Sarah is your uncle Bill's older daughter. When she was young, Bill's first wife, Sarah's mom died. Three years later Bill married again.\n",
            "#Person1#: So uncle Bill's wife is Jane's mother but not Sarah's mother. Right?\n",
            "#Person2#: Yes. She is Sarah's step-mother.\n",
            "#Person1#: And when are they coming to visit us?\n",
            "#Person2#: They want to travel to Europe next year, and will visit us at the same Ae.\n",
            "----------------------------------------------------------------------------------------------------\n",
            "BASELINE HUMAN SUMMARY:\n",
            "#Person2# tells #Person1# about the relationships between their family and the uncle Bill's, who will visit them next year.\n",
            "----------------------------------------------------------------------------------------------------\n",
            "\n"
          ]
        }
      ],
      "source": [
        "example_indices = [0, 42, 800]\n",
        "dash_line = '-' * 100\n",
        "\n",
        "for i, index in enumerate(example_indices):\n",
        "    print(dash_line)\n",
        "    print('Example', i + 1)\n",
        "    print(dash_line)\n",
        "    print('INPUT DIALOGUE:')\n",
        "    print(dataset['test'][index]['dialogue'])\n",
        "    print(dash_line)\n",
        "    print('BASELINE HUMAN SUMMARY:')\n",
        "    print(dataset['test'][index]['summary'])\n",
        "    print(dash_line)\n",
        "    print()"
      ]
    },
    {
      "cell_type": "markdown",
      "id": "bdd15699",
      "metadata": {
        "id": "bdd15699"
      },
      "source": [
        "### 3. Summarize Dialogues without Prompt Engineering"
      ]
    },
    {
      "cell_type": "markdown",
      "id": "4f575c6f",
      "metadata": {
        "id": "4f575c6f"
      },
      "source": [
        "Load the Flan-T5-large model and its tokenizer."
      ]
    },
    {
      "cell_type": "code",
      "execution_count": 35,
      "id": "cde7777e",
      "metadata": {
        "id": "cde7777e"
      },
      "outputs": [],
      "source": [
        "model_name = 'google/flan-t5-large'\n",
        "\n",
        "model = AutoModelForSeq2SeqLM.from_pretrained(model_name)\n",
        "tokenizer = AutoTokenizer.from_pretrained(model_name)"
      ]
    },
    {
      "cell_type": "markdown",
      "id": "1e9eb814",
      "metadata": {
        "id": "1e9eb814"
      },
      "source": [
        "**Exercise**: Use the pre-trained model to summarize the example dialogues without any prompt engineering. Use the `model.generate()` function with `max_new_tokens=50`."
      ]
    },
    {
      "cell_type": "code",
      "execution_count": 27,
      "id": "1acc5c4c",
      "metadata": {
        "colab": {
          "base_uri": "https://localhost:8080/"
        },
        "id": "1acc5c4c",
        "outputId": "653c6991-7745-47f7-bf9e-8fec7a8629e0"
      },
      "outputs": [
        {
          "output_type": "stream",
          "name": "stdout",
          "text": [
            "----------------------------------------------------------------------------------------------------\n",
            "Example 1\n",
            "----------------------------------------------------------------------------------------------------\n",
            "INPUT DIALOGUE:\n",
            "#Person1#: Ms. Dawson, I need you to take a dictation for me.\n",
            "#Person2#: Yes, sir...\n",
            "#Person1#: This should go out as an intra-office memorandum to all employees by this afternoon. Are you ready?\n",
            "#Person2#: Yes, sir. Go ahead.\n",
            "#Person1#: Attention all staff... Effective immediately, all office communications are restricted to email correspondence and official memos. The use of Instant Message programs by employees during working hours is strictly prohibited.\n",
            "#Person2#: Sir, does this apply to intra-office communications only? Or will it also restrict external communications?\n",
            "#Person1#: It should apply to all communications, not only in this office between employees, but also any outside communications.\n",
            "#Person2#: But sir, many employees use Instant Messaging to communicate with their clients.\n",
            "#Person1#: They will just have to change their communication methods. I don't want any - one using Instant Messaging in this office. It wastes too much time! Now, please continue with the memo. Where were we?\n",
            "#Person2#: This applies to internal and external communications.\n",
            "#Person1#: Yes. Any employee who persists in using Instant Messaging will first receive a warning and be placed on probation. At second offense, the employee will face termination. Any questions regarding this new policy may be directed to department heads.\n",
            "#Person2#: Is that all?\n",
            "#Person1#: Yes. Please get this memo typed up and distributed to all employees before 4 pm.\n",
            "----------------------------------------------------------------------------------------------------\n",
            "BASELINE HUMAN SUMMARY:\n",
            "Ms. Dawson helps #Person1# to write a memo to inform every employee that they have to change the communication method and should not use Instant Messaging anymore.\n",
            "----------------------------------------------------------------------------------------------------\n",
            "GENERATED SUMMARY:\n",
            "<pad> #Person1: Ms. Dawson, please take dictation for me.</s>\n",
            "----------------------------------------------------------------------------------------------------\n",
            "\n",
            "----------------------------------------------------------------------------------------------------\n",
            "Example 2\n",
            "----------------------------------------------------------------------------------------------------\n",
            "INPUT DIALOGUE:\n",
            "#Person1#: I don't know how to adjust my life. Would you give me a piece of advice?\n",
            "#Person2#: You look a bit pale, don't you?\n",
            "#Person1#: Yes, I can't sleep well every night.\n",
            "#Person2#: You should get plenty of sleep.\n",
            "#Person1#: I drink a lot of wine.\n",
            "#Person2#: If I were you, I wouldn't drink too much.\n",
            "#Person1#: I often feel so tired.\n",
            "#Person2#: You better do some exercise every morning.\n",
            "#Person1#: I sometimes find the shadow of death in front of me.\n",
            "#Person2#: Why do you worry about your future? You're very young, and you'll make great contribution to the world. I hope you take my advice.\n",
            "----------------------------------------------------------------------------------------------------\n",
            "BASELINE HUMAN SUMMARY:\n",
            "#Person1# wants to adjust #Person1#'s life and #Person2# suggests #Person1# be positive and stay healthy.\n",
            "----------------------------------------------------------------------------------------------------\n",
            "GENERATED SUMMARY:\n",
            "<pad> #Person1#: Thank you, #Person2#.</s>\n",
            "----------------------------------------------------------------------------------------------------\n",
            "\n",
            "----------------------------------------------------------------------------------------------------\n",
            "Example 3\n",
            "----------------------------------------------------------------------------------------------------\n",
            "INPUT DIALOGUE:\n",
            "#Person1#: Dad, you keep talking about family in New Zealand. Who are they?\n",
            "#Person2#: Well, that's your uncle Bill, his wife and two of their daughters.\n",
            "#Person1#: Is uncle Bill your brother?\n",
            "#Person2#: No, your uncle Jack is my brother, Bill is my brother-in-law, your mom's brother.\n",
            "#Person1#: So his two daughters are my cousins?\n",
            "#Person2#: That's right, Sarah and Jane are both your cousins although they are step-sisters.\n",
            "#Person1#: What are step-sisters?\n",
            "#Person2#: Sarah is your uncle Bill's older daughter. When she was young, Bill's first wife, Sarah's mom died. Three years later Bill married again.\n",
            "#Person1#: So uncle Bill's wife is Jane's mother but not Sarah's mother. Right?\n",
            "#Person2#: Yes. She is Sarah's step-mother.\n",
            "#Person1#: And when are they coming to visit us?\n",
            "#Person2#: They want to travel to Europe next year, and will visit us at the same Ae.\n",
            "----------------------------------------------------------------------------------------------------\n",
            "BASELINE HUMAN SUMMARY:\n",
            "#Person2# tells #Person1# about the relationships between their family and the uncle Bill's, who will visit them next year.\n",
            "----------------------------------------------------------------------------------------------------\n",
            "GENERATED SUMMARY:\n",
            "<pad> #Person1#: That's great.</s>\n",
            "----------------------------------------------------------------------------------------------------\n",
            "\n"
          ]
        }
      ],
      "source": [
        "### WRITE YOUR CODE HERE\n",
        "example_indices = [0, 42, 800]\n",
        "dash_line = '-' * 100\n",
        "\n",
        "for i, index in enumerate(example_indices):\n",
        "    print(dash_line)\n",
        "    print('Example', i + 1)\n",
        "    print(dash_line)\n",
        "    print('INPUT DIALOGUE:')\n",
        "    print(dataset['test'][index]['dialogue'])\n",
        "    print(dash_line)\n",
        "    print('BASELINE HUMAN SUMMARY:')\n",
        "    print(dataset['test'][index]['summary'])\n",
        "    print(dash_line)\n",
        "    print('GENERATED SUMMARY:')\n",
        "    #print(dataset['test'][index]['summary'])\n",
        "    input_ids = tokenizer(dataset['test'][index]['dialogue'], return_tensors=\"pt\").input_ids\n",
        "    outputs = model.generate(input_ids,max_new_tokens=50)\n",
        "    print(tokenizer.decode(outputs[0]))\n",
        "    print(dash_line)\n",
        "    print()\n",
        "\n",
        "\n"
      ]
    },
    {
      "cell_type": "markdown",
      "id": "f56c1847",
      "metadata": {
        "id": "f56c1847"
      },
      "source": [
        "You can see that the model generations make some sense, but the model doesn't seem to be sure what task it is supposed to accomplish and it often just makes up the next sentence in the dialogue. Prompt engineering can help here."
      ]
    },
    {
      "cell_type": "markdown",
      "id": "3d357a5e",
      "metadata": {
        "id": "3d357a5e"
      },
      "source": [
        "### 4. Summarize Dialogues with Instruction Prompts\n",
        "\n",
        "In order to instruct the model to perform a task (e.g., summarize a dialogue), you can take the dialogue and convert it into an instruction prompt. This is often called **zero-shot inference**."
      ]
    },
    {
      "cell_type": "markdown",
      "id": "9f063fe5",
      "metadata": {
        "id": "9f063fe5"
      },
      "source": [
        "**Exercise**: Wrap the dialogues in a descriptive instruction (e.g., \"Summarize the following conversation.\"), and examine how the generated text changes."
      ]
    },
    {
      "cell_type": "code",
      "execution_count": 28,
      "id": "ce562836",
      "metadata": {
        "colab": {
          "base_uri": "https://localhost:8080/"
        },
        "id": "ce562836",
        "outputId": "8582a513-d76c-4a43-90d7-3210b2a42c37"
      },
      "outputs": [
        {
          "output_type": "stream",
          "name": "stdout",
          "text": [
            "----------------------------------------------------------------------------------------------------\n",
            "Example 1\n",
            "----------------------------------------------------------------------------------------------------\n",
            "INPUT DIALOGUE:\n",
            "#Person1#: Ms. Dawson, I need you to take a dictation for me.\n",
            "#Person2#: Yes, sir...\n",
            "#Person1#: This should go out as an intra-office memorandum to all employees by this afternoon. Are you ready?\n",
            "#Person2#: Yes, sir. Go ahead.\n",
            "#Person1#: Attention all staff... Effective immediately, all office communications are restricted to email correspondence and official memos. The use of Instant Message programs by employees during working hours is strictly prohibited.\n",
            "#Person2#: Sir, does this apply to intra-office communications only? Or will it also restrict external communications?\n",
            "#Person1#: It should apply to all communications, not only in this office between employees, but also any outside communications.\n",
            "#Person2#: But sir, many employees use Instant Messaging to communicate with their clients.\n",
            "#Person1#: They will just have to change their communication methods. I don't want any - one using Instant Messaging in this office. It wastes too much time! Now, please continue with the memo. Where were we?\n",
            "#Person2#: This applies to internal and external communications.\n",
            "#Person1#: Yes. Any employee who persists in using Instant Messaging will first receive a warning and be placed on probation. At second offense, the employee will face termination. Any questions regarding this new policy may be directed to department heads.\n",
            "#Person2#: Is that all?\n",
            "#Person1#: Yes. Please get this memo typed up and distributed to all employees before 4 pm.\n",
            "----------------------------------------------------------------------------------------------------\n",
            "BASELINE HUMAN SUMMARY:\n",
            "Ms. Dawson helps #Person1# to write a memo to inform every employee that they have to change the communication method and should not use Instant Messaging anymore.\n",
            "----------------------------------------------------------------------------------------------------\n",
            "GENERATED SUMMARY:\n",
            "<pad> #Person1# wants Ms. Dawson to take dictation for him.</s>\n",
            "----------------------------------------------------------------------------------------------------\n",
            "\n",
            "----------------------------------------------------------------------------------------------------\n",
            "Example 2\n",
            "----------------------------------------------------------------------------------------------------\n",
            "INPUT DIALOGUE:\n",
            "#Person1#: I don't know how to adjust my life. Would you give me a piece of advice?\n",
            "#Person2#: You look a bit pale, don't you?\n",
            "#Person1#: Yes, I can't sleep well every night.\n",
            "#Person2#: You should get plenty of sleep.\n",
            "#Person1#: I drink a lot of wine.\n",
            "#Person2#: If I were you, I wouldn't drink too much.\n",
            "#Person1#: I often feel so tired.\n",
            "#Person2#: You better do some exercise every morning.\n",
            "#Person1#: I sometimes find the shadow of death in front of me.\n",
            "#Person2#: Why do you worry about your future? You're very young, and you'll make great contribution to the world. I hope you take my advice.\n",
            "----------------------------------------------------------------------------------------------------\n",
            "BASELINE HUMAN SUMMARY:\n",
            "#Person1# wants to adjust #Person1#'s life and #Person2# suggests #Person1# be positive and stay healthy.\n",
            "----------------------------------------------------------------------------------------------------\n",
            "GENERATED SUMMARY:\n",
            "<pad> #Person1# is worried about his future. #Person2# gives him some advice.</s>\n",
            "----------------------------------------------------------------------------------------------------\n",
            "\n",
            "----------------------------------------------------------------------------------------------------\n",
            "Example 3\n",
            "----------------------------------------------------------------------------------------------------\n",
            "INPUT DIALOGUE:\n",
            "#Person1#: Dad, you keep talking about family in New Zealand. Who are they?\n",
            "#Person2#: Well, that's your uncle Bill, his wife and two of their daughters.\n",
            "#Person1#: Is uncle Bill your brother?\n",
            "#Person2#: No, your uncle Jack is my brother, Bill is my brother-in-law, your mom's brother.\n",
            "#Person1#: So his two daughters are my cousins?\n",
            "#Person2#: That's right, Sarah and Jane are both your cousins although they are step-sisters.\n",
            "#Person1#: What are step-sisters?\n",
            "#Person2#: Sarah is your uncle Bill's older daughter. When she was young, Bill's first wife, Sarah's mom died. Three years later Bill married again.\n",
            "#Person1#: So uncle Bill's wife is Jane's mother but not Sarah's mother. Right?\n",
            "#Person2#: Yes. She is Sarah's step-mother.\n",
            "#Person1#: And when are they coming to visit us?\n",
            "#Person2#: They want to travel to Europe next year, and will visit us at the same Ae.\n",
            "----------------------------------------------------------------------------------------------------\n",
            "BASELINE HUMAN SUMMARY:\n",
            "#Person2# tells #Person1# about the relationships between their family and the uncle Bill's, who will visit them next year.\n",
            "----------------------------------------------------------------------------------------------------\n",
            "GENERATED SUMMARY:\n",
            "<pad> Dad, you keep talking about your uncle Bill, his wife and two of their daughters in New Zealand.</s>\n",
            "----------------------------------------------------------------------------------------------------\n",
            "\n"
          ]
        }
      ],
      "source": [
        "### WRITE YOUR CODE HERE\n",
        "example_indices = [0, 42, 800]\n",
        "dash_line = '-' * 100\n",
        "\n",
        "for i, index in enumerate(example_indices):\n",
        "    print(dash_line)\n",
        "    print('Example', i + 1)\n",
        "    print(dash_line)\n",
        "    print('INPUT DIALOGUE:')\n",
        "    print(dataset['test'][index]['dialogue'])\n",
        "    print(dash_line)\n",
        "    print('BASELINE HUMAN SUMMARY:')\n",
        "    print(dataset['test'][index]['summary'])\n",
        "    print(dash_line)\n",
        "    print('GENERATED SUMMARY:')\n",
        "    input_ids = tokenizer(\"Summarize the following conversation: \"+dataset['test'][index]['dialogue'], return_tensors=\"pt\").input_ids\n",
        "    outputs = model.generate(input_ids,max_new_tokens=50)\n",
        "    print(tokenizer.decode(outputs[0]))\n",
        "    print(dash_line)\n",
        "    print()\n",
        "\n",
        "\n"
      ]
    },
    {
      "cell_type": "markdown",
      "id": "b3f84813",
      "metadata": {
        "id": "b3f84813"
      },
      "source": [
        "This is much better! But the model still does not pick up on the nuance of the conversations though."
      ]
    },
    {
      "cell_type": "markdown",
      "id": "fd35a918",
      "metadata": {
        "id": "fd35a918"
      },
      "source": [
        "**Exercise:** Experiment with the prompt text and see how it influences the generated output. Do the inferences change if you end the prompt with just empty string vs. `Summary: `?"
      ]
    },
    {
      "cell_type": "markdown",
      "source": [
        "Answer: For the first example the inference changed."
      ],
      "metadata": {
        "id": "Qkd_Jb4tndSd"
      },
      "id": "Qkd_Jb4tndSd"
    },
    {
      "cell_type": "code",
      "execution_count": 31,
      "id": "tzzxiWsM7Mzd",
      "metadata": {
        "colab": {
          "base_uri": "https://localhost:8080/"
        },
        "id": "tzzxiWsM7Mzd",
        "outputId": "b683ecd9-ddce-49d5-b293-e9cda5ea1f4f"
      },
      "outputs": [
        {
          "output_type": "stream",
          "name": "stdout",
          "text": [
            "----------------------------------------------------------------------------------------------------\n",
            "Example 1\n",
            "----------------------------------------------------------------------------------------------------\n",
            "INPUT DIALOGUE:\n",
            "#Person1#: Ms. Dawson, I need you to take a dictation for me.\n",
            "#Person2#: Yes, sir...\n",
            "#Person1#: This should go out as an intra-office memorandum to all employees by this afternoon. Are you ready?\n",
            "#Person2#: Yes, sir. Go ahead.\n",
            "#Person1#: Attention all staff... Effective immediately, all office communications are restricted to email correspondence and official memos. The use of Instant Message programs by employees during working hours is strictly prohibited.\n",
            "#Person2#: Sir, does this apply to intra-office communications only? Or will it also restrict external communications?\n",
            "#Person1#: It should apply to all communications, not only in this office between employees, but also any outside communications.\n",
            "#Person2#: But sir, many employees use Instant Messaging to communicate with their clients.\n",
            "#Person1#: They will just have to change their communication methods. I don't want any - one using Instant Messaging in this office. It wastes too much time! Now, please continue with the memo. Where were we?\n",
            "#Person2#: This applies to internal and external communications.\n",
            "#Person1#: Yes. Any employee who persists in using Instant Messaging will first receive a warning and be placed on probation. At second offense, the employee will face termination. Any questions regarding this new policy may be directed to department heads.\n",
            "#Person2#: Is that all?\n",
            "#Person1#: Yes. Please get this memo typed up and distributed to all employees before 4 pm.\n",
            "----------------------------------------------------------------------------------------------------\n",
            "BASELINE HUMAN SUMMARY:\n",
            "Ms. Dawson helps #Person1# to write a memo to inform every employee that they have to change the communication method and should not use Instant Messaging anymore.\n",
            "----------------------------------------------------------------------------------------------------\n",
            "GENERATED SUMMARY (ending prompt with empty string ):\n",
            "<pad> #Person1# wants Ms. Dawson to take dictation for him.</s>\n",
            "----------------------------------------------------------------------------------------------------\n",
            "GENERATED SUMMARY (ending prompt with \"Summary:\" ):\n",
            "<pad> #Person1: I need you to take dictation for me. #Person2: Yes, sir. #Person1: All office communications are restricted to email correspondence and official memos. The use of Instant Message\n",
            "----------------------------------------------------------------------------------------------------\n",
            "\n",
            "----------------------------------------------------------------------------------------------------\n",
            "Example 2\n",
            "----------------------------------------------------------------------------------------------------\n",
            "INPUT DIALOGUE:\n",
            "#Person1#: I don't know how to adjust my life. Would you give me a piece of advice?\n",
            "#Person2#: You look a bit pale, don't you?\n",
            "#Person1#: Yes, I can't sleep well every night.\n",
            "#Person2#: You should get plenty of sleep.\n",
            "#Person1#: I drink a lot of wine.\n",
            "#Person2#: If I were you, I wouldn't drink too much.\n",
            "#Person1#: I often feel so tired.\n",
            "#Person2#: You better do some exercise every morning.\n",
            "#Person1#: I sometimes find the shadow of death in front of me.\n",
            "#Person2#: Why do you worry about your future? You're very young, and you'll make great contribution to the world. I hope you take my advice.\n",
            "----------------------------------------------------------------------------------------------------\n",
            "BASELINE HUMAN SUMMARY:\n",
            "#Person1# wants to adjust #Person1#'s life and #Person2# suggests #Person1# be positive and stay healthy.\n",
            "----------------------------------------------------------------------------------------------------\n",
            "GENERATED SUMMARY (ending prompt with empty string ):\n",
            "<pad> #Person1# is worried about his future. #Person2# gives him some advice.</s>\n",
            "----------------------------------------------------------------------------------------------------\n",
            "GENERATED SUMMARY (ending prompt with \"Summary:\" ):\n",
            "<pad> #Person1# is worried about his future. #Person2# gives him some advice.</s>\n",
            "----------------------------------------------------------------------------------------------------\n",
            "\n",
            "----------------------------------------------------------------------------------------------------\n",
            "Example 3\n",
            "----------------------------------------------------------------------------------------------------\n",
            "INPUT DIALOGUE:\n",
            "#Person1#: Dad, you keep talking about family in New Zealand. Who are they?\n",
            "#Person2#: Well, that's your uncle Bill, his wife and two of their daughters.\n",
            "#Person1#: Is uncle Bill your brother?\n",
            "#Person2#: No, your uncle Jack is my brother, Bill is my brother-in-law, your mom's brother.\n",
            "#Person1#: So his two daughters are my cousins?\n",
            "#Person2#: That's right, Sarah and Jane are both your cousins although they are step-sisters.\n",
            "#Person1#: What are step-sisters?\n",
            "#Person2#: Sarah is your uncle Bill's older daughter. When she was young, Bill's first wife, Sarah's mom died. Three years later Bill married again.\n",
            "#Person1#: So uncle Bill's wife is Jane's mother but not Sarah's mother. Right?\n",
            "#Person2#: Yes. She is Sarah's step-mother.\n",
            "#Person1#: And when are they coming to visit us?\n",
            "#Person2#: They want to travel to Europe next year, and will visit us at the same Ae.\n",
            "----------------------------------------------------------------------------------------------------\n",
            "BASELINE HUMAN SUMMARY:\n",
            "#Person2# tells #Person1# about the relationships between their family and the uncle Bill's, who will visit them next year.\n",
            "----------------------------------------------------------------------------------------------------\n",
            "GENERATED SUMMARY (ending prompt with empty string ):\n",
            "<pad> Dad, you keep talking about your uncle Bill, his wife and two of their daughters in New Zealand.</s>\n",
            "----------------------------------------------------------------------------------------------------\n",
            "GENERATED SUMMARY (ending prompt with \"Summary:\" ):\n",
            "<pad> Dad, you keep talking about your uncle Bill, his wife and two of their daughters in New Zealand.</s>\n",
            "----------------------------------------------------------------------------------------------------\n",
            "\n"
          ]
        }
      ],
      "source": [
        "### WRITE YOUR CODE HERE\n",
        "example_indices = [0, 42, 800]\n",
        "dash_line = '-' * 100\n",
        "\n",
        "for i, index in enumerate(example_indices):\n",
        "    print(dash_line)\n",
        "    print('Example', i + 1)\n",
        "    print(dash_line)\n",
        "    print('INPUT DIALOGUE:')\n",
        "    print(dataset['test'][index]['dialogue'])\n",
        "    print(dash_line)\n",
        "    print('BASELINE HUMAN SUMMARY:')\n",
        "    print(dataset['test'][index]['summary'])\n",
        "    print(dash_line)\n",
        "    print('GENERATED SUMMARY (ending prompt with empty string ):')\n",
        "    input_ids = tokenizer(\"Summarize the following conversation: \"+dataset['test'][index]['dialogue'], return_tensors=\"pt\").input_ids\n",
        "    outputs = model.generate(input_ids,max_new_tokens=50)\n",
        "    print(tokenizer.decode(outputs[0]))\n",
        "    print(dash_line)\n",
        "    print('GENERATED SUMMARY (ending prompt with \"Summary:\" ):')\n",
        "    input_ids = tokenizer(\"Summarize the following conversation: \"+dataset['test'][index]['dialogue']+\" Summary:\", return_tensors=\"pt\").input_ids\n",
        "    outputs = model.generate(input_ids,max_new_tokens=50)\n",
        "    print(tokenizer.decode(outputs[0]))\n",
        "    print(dash_line)\n",
        "    print()\n",
        "\n",
        "\n"
      ]
    },
    {
      "cell_type": "markdown",
      "id": "75f4c1fd",
      "metadata": {
        "id": "75f4c1fd"
      },
      "source": [
        "**Exercise:** Flan-T5 has many prompt templates that are published for certain tasks [here](https://github.com/google-research/FLAN/blob/main/flan/v2/templates.py). Try using its pre-built prompts for dialogue summarization (e.g., the ones under the `\"samsum\"` key) and see how they influence the outputs.\n"
      ]
    },
    {
      "cell_type": "code",
      "execution_count": 32,
      "id": "ef476f6d",
      "metadata": {
        "colab": {
          "base_uri": "https://localhost:8080/"
        },
        "id": "ef476f6d",
        "outputId": "49c8fb49-3515-4eab-998b-5995634bcb69"
      },
      "outputs": [
        {
          "output_type": "stream",
          "name": "stdout",
          "text": [
            "----------------------------------------------------------------------------------------------------\n",
            "Example 1\n",
            "----------------------------------------------------------------------------------------------------\n",
            "INPUT DIALOGUE:\n",
            "#Person1#: Ms. Dawson, I need you to take a dictation for me.\n",
            "#Person2#: Yes, sir...\n",
            "#Person1#: This should go out as an intra-office memorandum to all employees by this afternoon. Are you ready?\n",
            "#Person2#: Yes, sir. Go ahead.\n",
            "#Person1#: Attention all staff... Effective immediately, all office communications are restricted to email correspondence and official memos. The use of Instant Message programs by employees during working hours is strictly prohibited.\n",
            "#Person2#: Sir, does this apply to intra-office communications only? Or will it also restrict external communications?\n",
            "#Person1#: It should apply to all communications, not only in this office between employees, but also any outside communications.\n",
            "#Person2#: But sir, many employees use Instant Messaging to communicate with their clients.\n",
            "#Person1#: They will just have to change their communication methods. I don't want any - one using Instant Messaging in this office. It wastes too much time! Now, please continue with the memo. Where were we?\n",
            "#Person2#: This applies to internal and external communications.\n",
            "#Person1#: Yes. Any employee who persists in using Instant Messaging will first receive a warning and be placed on probation. At second offense, the employee will face termination. Any questions regarding this new policy may be directed to department heads.\n",
            "#Person2#: Is that all?\n",
            "#Person1#: Yes. Please get this memo typed up and distributed to all employees before 4 pm.\n",
            "----------------------------------------------------------------------------------------------------\n",
            "BASELINE HUMAN SUMMARY:\n",
            "Ms. Dawson helps #Person1# to write a memo to inform every employee that they have to change the communication method and should not use Instant Messaging anymore.\n",
            "----------------------------------------------------------------------------------------------------\n",
            "GENERATED SUMMARY with prompt template-1\n",
            "<pad> Person1 wants Ms. Dawson to take dictation for him. The new policy restricts all office communications to email correspondence and official memos. Any employee who persists in using Instant Messaging will receive a warning and be placed on\n",
            "----------------------------------------------------------------------------------------------------\n",
            "GENERATED SUMMARY with prompt template-2\n",
            "<pad> Person1 wants to send an intra-office memo to all employees. It's about a new policy on communications. Employees who use Instant Messaging during working hours will be warned and placed on probation. Employees who continue to use Instant\n",
            "----------------------------------------------------------------------------------------------------\n",
            "GENERATED SUMMARY with prompt template-3\n",
            "<pad> The new policy on office communications is to be implemented. Employees are prohibited from using Instant Messaging.</s>\n",
            "----------------------------------------------------------------------------------------------------\n",
            "Example 2\n",
            "----------------------------------------------------------------------------------------------------\n",
            "INPUT DIALOGUE:\n",
            "#Person1#: I don't know how to adjust my life. Would you give me a piece of advice?\n",
            "#Person2#: You look a bit pale, don't you?\n",
            "#Person1#: Yes, I can't sleep well every night.\n",
            "#Person2#: You should get plenty of sleep.\n",
            "#Person1#: I drink a lot of wine.\n",
            "#Person2#: If I were you, I wouldn't drink too much.\n",
            "#Person1#: I often feel so tired.\n",
            "#Person2#: You better do some exercise every morning.\n",
            "#Person1#: I sometimes find the shadow of death in front of me.\n",
            "#Person2#: Why do you worry about your future? You're very young, and you'll make great contribution to the world. I hope you take my advice.\n",
            "----------------------------------------------------------------------------------------------------\n",
            "BASELINE HUMAN SUMMARY:\n",
            "#Person1# wants to adjust #Person1#'s life and #Person2# suggests #Person1# be positive and stay healthy.\n",
            "----------------------------------------------------------------------------------------------------\n",
            "GENERATED SUMMARY with prompt template-1\n",
            "<pad> Person1 is worried about his future. He should get plenty of sleep, drink less wine and exercise.</s>\n",
            "----------------------------------------------------------------------------------------------------\n",
            "GENERATED SUMMARY with prompt template-2\n",
            "<pad> Person1 is worried about his future. He doesn't know how to adjust his life. Person2 gives him some advice.</s>\n",
            "----------------------------------------------------------------------------------------------------\n",
            "GENERATED SUMMARY with prompt template-3\n",
            "<pad> Person1 is worried about his future. He should get plenty of sleep, drink less wine and exercise.</s>\n",
            "----------------------------------------------------------------------------------------------------\n",
            "Example 3\n",
            "----------------------------------------------------------------------------------------------------\n",
            "INPUT DIALOGUE:\n",
            "#Person1#: Dad, you keep talking about family in New Zealand. Who are they?\n",
            "#Person2#: Well, that's your uncle Bill, his wife and two of their daughters.\n",
            "#Person1#: Is uncle Bill your brother?\n",
            "#Person2#: No, your uncle Jack is my brother, Bill is my brother-in-law, your mom's brother.\n",
            "#Person1#: So his two daughters are my cousins?\n",
            "#Person2#: That's right, Sarah and Jane are both your cousins although they are step-sisters.\n",
            "#Person1#: What are step-sisters?\n",
            "#Person2#: Sarah is your uncle Bill's older daughter. When she was young, Bill's first wife, Sarah's mom died. Three years later Bill married again.\n",
            "#Person1#: So uncle Bill's wife is Jane's mother but not Sarah's mother. Right?\n",
            "#Person2#: Yes. She is Sarah's step-mother.\n",
            "#Person1#: And when are they coming to visit us?\n",
            "#Person2#: They want to travel to Europe next year, and will visit us at the same Ae.\n",
            "----------------------------------------------------------------------------------------------------\n",
            "BASELINE HUMAN SUMMARY:\n",
            "#Person2# tells #Person1# about the relationships between their family and the uncle Bill's, who will visit them next year.\n",
            "----------------------------------------------------------------------------------------------------\n",
            "GENERATED SUMMARY with prompt template-1\n",
            "<pad> Dad keeps talking about his uncle Bill, his wife and two of their daughters in New Zealand. Sarah and Jane are his cousins. They want to travel to Europe next year and will visit them at the same Ae.</s>\n",
            "----------------------------------------------------------------------------------------------------\n",
            "GENERATED SUMMARY with prompt template-2\n",
            "<pad> Dad keeps talking about his uncle Bill, his wife and two of their daughters in New Zealand.</s>\n",
            "----------------------------------------------------------------------------------------------------\n",
            "GENERATED SUMMARY with prompt template-3\n",
            "<pad> Dad keeps talking about his family in New Zealand. His uncle Bill, his wife and two of their daughters are his cousins. Sarah and Jane are both his cousins, although they are step-sisters. They want to travel to Europe\n",
            "----------------------------------------------------------------------------------------------------\n",
            "Example 4\n",
            "----------------------------------------------------------------------------------------------------\n",
            "INPUT DIALOGUE:\n",
            "#Person1#: OK, that's a cut! Let's start from the beginning, everyone.\n",
            "#Person2#: What was the problem that time?\n",
            "#Person1#: The feeling was all wrong, Mike. She is telling you that she doesn't want to see you any more, but I want to get more anger from you. You're acting hurt and sad, but that's not how your character would act in this situation.\n",
            "#Person2#: But Jason and Laura have been together for three years. Don't you think his reaction would be one of both anger and sadness?\n",
            "#Person1#: At this point, no. I think he would react the way most guys would, and then later on, we would see his real feelings.\n",
            "#Person2#: I'm not so sure about that.\n",
            "#Person1#: Let's try it my way, and you can see how you feel when you're saying your lines. After that, if it still doesn't feel right, we can try something else.\n",
            "----------------------------------------------------------------------------------------------------\n",
            "BASELINE HUMAN SUMMARY:\n",
            "#Person1# and Mike have a disagreement on how to act out a scene. #Person1# proposes that Mike can try to act in #Person1#'s way.\n",
            "----------------------------------------------------------------------------------------------------\n",
            "GENERATED SUMMARY with prompt template-1\n",
            "<pad> Jason and Laura are breaking up. Mike is acting hurt and sad.</s>\n",
            "----------------------------------------------------------------------------------------------------\n",
            "GENERATED SUMMARY with prompt template-2\n",
            "<pad> Jason and Laura are breaking up. Mike is acting hurt and sad.</s>\n",
            "----------------------------------------------------------------------------------------------------\n",
            "GENERATED SUMMARY with prompt template-3\n",
            "<pad> Jason and Laura are breaking up. Mike is acting hurt and sad.</s>\n",
            "----------------------------------------------------------------------------------------------------\n",
            "Example 5\n",
            "----------------------------------------------------------------------------------------------------\n",
            "INPUT DIALOGUE:\n",
            "#Person1#: Have you considered upgrading your system?\n",
            "#Person2#: Yes, but I'm not sure what exactly I would need.\n",
            "#Person1#: You could consider adding a painting program to your software. It would allow you to make up your own flyers and banners for advertising.\n",
            "#Person2#: That would be a definite bonus.\n",
            "#Person1#: You might also want to upgrade your hardware because it is pretty outdated now.\n",
            "#Person2#: How can we do that?\n",
            "#Person1#: You'd probably need a faster processor, to begin with. And you also need a more powerful hard disc, more memory and a faster modem. Do you have a CD-ROM drive?\n",
            "#Person2#: No.\n",
            "#Person1#: Then you might want to add a CD-ROM drive too, because most new software programs are coming out on Cds.\n",
            "#Person2#: That sounds great. Thanks.\n",
            "----------------------------------------------------------------------------------------------------\n",
            "BASELINE HUMAN SUMMARY:\n",
            "#Person1# teaches #Person2# how to upgrade software and hardware in #Person2#'s system.\n",
            "----------------------------------------------------------------------------------------------------\n",
            "GENERATED SUMMARY with prompt template-1\n",
            "<pad> Person2 is considering upgrading his system. He might need a faster processor, a faster hard disc, more memory and a faster modem.</s>\n",
            "----------------------------------------------------------------------------------------------------\n",
            "GENERATED SUMMARY with prompt template-2\n",
            "<pad> #Person1 suggests to upgrade the system. #Person2 needs a faster processor, more memory, a faster modem and a CD-ROM drive.</s>\n",
            "----------------------------------------------------------------------------------------------------\n",
            "GENERATED SUMMARY with prompt template-3\n",
            "<pad> Person2 is considering upgrading her system. She would like to add a painting program to her software. She also needs a faster processor, more memory, a faster modem and a CD-ROM drive.</s>\n"
          ]
        }
      ],
      "source": [
        "### WRITE YOUR CODE HERE\n",
        "### WRITE YOUR CODE HERE\n",
        "example_indices = [0, 42, 800,100,200]\n",
        "dash_line = '-' * 100\n",
        "\n",
        "for i, index in enumerate(example_indices):\n",
        "    print(dash_line)\n",
        "    print('Example', i + 1)\n",
        "    print(dash_line)\n",
        "    print('INPUT DIALOGUE:')\n",
        "    print(dataset['test'][index]['dialogue'])\n",
        "    print(dash_line)\n",
        "    print('BASELINE HUMAN SUMMARY:')\n",
        "    print(dataset['test'][index]['summary'])\n",
        "    print(dash_line)\n",
        "    print('GENERATED SUMMARY with prompt template-1')\n",
        "    input_ids = tokenizer(dataset['test'][index]['dialogue']+\"\\n\\nBriefly summarize that dialogue.\", return_tensors=\"pt\").input_ids\n",
        "    outputs = model.generate(input_ids,max_new_tokens=50)\n",
        "    print(tokenizer.decode(outputs[0]))\n",
        "    print(dash_line)\n",
        "    print('GENERATED SUMMARY with prompt template-2')\n",
        "    input_ids = tokenizer(\"Here is a dialogue:\\n \"+dataset['test'][index]['dialogue']+\"\\n\\nWrite a short summary!\", return_tensors=\"pt\").input_ids\n",
        "    outputs = model.generate(input_ids,max_new_tokens=50)\n",
        "    print(tokenizer.decode(outputs[0]))\n",
        "    print(dash_line)\n",
        "    print('GENERATED SUMMARY with prompt template-3')\n",
        "    input_ids = tokenizer(\"Dialogue:\\n\"+dataset['test'][index]['dialogue']+\"\\nWhat were the main points in that conversation?\", return_tensors=\"pt\").input_ids\n",
        "    outputs = model.generate(input_ids,max_new_tokens=50)\n",
        "    print(tokenizer.decode(outputs[0]))\n",
        "\n",
        "\n",
        "\n"
      ]
    },
    {
      "cell_type": "markdown",
      "id": "85043960",
      "metadata": {
        "id": "85043960"
      },
      "source": [
        "Notice that the prompts from Flan-T5 did help, but the model still struggles to pick up on the nuance of the conversation in some cases. This is what you will try to solve with few-shot inferencing."
      ]
    },
    {
      "cell_type": "markdown",
      "id": "aca21d4c",
      "metadata": {
        "id": "aca21d4c"
      },
      "source": [
        "### 5. Summarize Dialogues with a Few-Shot Inference\n",
        "\n",
        "**Few-shot inference** is the practice of providing an LLM with several examples of prompt-response pairs that match your task - before your actual prompt that you want completed. This is called \"in-context learning\" and puts your model into a state that understands your specific task."
      ]
    },
    {
      "cell_type": "markdown",
      "id": "1df2552a",
      "metadata": {
        "id": "1df2552a"
      },
      "source": [
        "**Exercise:** Build a function that takes a list of `in_context_example_indexes`, generates a prompt with the examples, then at the end appends the prompt that you want the model to complete (`test_example_index`). Use the same Flan-T5 prompt template from Section 3. Make sure to separate between the examples with `\"\\n\\n\\n\"`."
      ]
    },
    {
      "cell_type": "code",
      "execution_count": 99,
      "id": "130b8c38",
      "metadata": {
        "id": "130b8c38"
      },
      "outputs": [],
      "source": [
        "# I used a different Flan-T5 prompt template to produce better result. I mention word limit of 50 words.\n",
        "def make_prompt(in_context_example_indices, test_example_index):\n",
        "    ### WRITE YOUR CODE HERE\n",
        "    prompt = ''\n",
        "\n",
        "    for index in in_context_example_indices:\n",
        "        prompt += 'Summarize the following conversation in less than 50 words:\\n'+dataset['test'][index]['dialogue'] + '\\nSummary: '+ dataset['test'][index]['summary']+ '\\n\\n\\n'\n",
        "\n",
        "    prompt +=  'Summarize the following conversation:\\n'+dataset['test'][test_example_index]['dialogue'] + '\\nSummary: '\n",
        "    return prompt"
      ]
    },
    {
      "cell_type": "code",
      "execution_count": 116,
      "id": "e968a7e1",
      "metadata": {
        "colab": {
          "base_uri": "https://localhost:8080/"
        },
        "id": "e968a7e1",
        "outputId": "55e6a215-223f-4acd-aff1-3bf7eb04068d"
      },
      "outputs": [
        {
          "output_type": "stream",
          "name": "stdout",
          "text": [
            "Summarize the following conversation in less than 50 words:\n",
            "#Person1#: Happy Birthday, this is for you, Brian.\n",
            "#Person2#: I'm so happy you remember, please come in and enjoy the party. Everyone's here, I'm sure you have a good time.\n",
            "#Person1#: Brian, may I have a pleasure to have a dance with you?\n",
            "#Person2#: Ok.\n",
            "#Person1#: This is really wonderful party.\n",
            "#Person2#: Yes, you are always popular with everyone. and you look very pretty today.\n",
            "#Person1#: Thanks, that's very kind of you to say. I hope my necklace goes with my dress, and they both make me look good I feel.\n",
            "#Person2#: You look great, you are absolutely glowing.\n",
            "#Person1#: Thanks, this is a fine party. We should have a drink together to celebrate your birthday\n",
            "Summary: #Person1# attends Brian's birthday party. Brian thinks #Person1# looks great and charming.\n",
            "\n",
            "\n",
            "Summarize the following conversation in less than 50 words:\n",
            "#Person1#: What's wrong with you? Why are you scratching so much?\n",
            "#Person2#: I feel itchy! I can't stand it anymore! I think I may be coming down with something. I feel lightheaded and weak.\n",
            "#Person1#: Let me have a look. Whoa! Get away from me!\n",
            "#Person2#: What's wrong?\n",
            "#Person1#: I think you have chicken pox! You are contagious! Get away! Don't breathe on me!\n",
            "#Person2#: Maybe it's just a rash or an allergy! We can't be sure until I see a doctor.\n",
            "#Person1#: Well in the meantime you are a biohazard! I didn't get it when I was a kid and I've heard that you can even die if you get it as an adult!\n",
            "#Person2#: Are you serious? You always blow things out of proportion. In any case, I think I'll go take an oatmeal bath.\n",
            "Summary: #Person1# thinks #Person2# has chicken pox and warns #Person2# about the possible hazards but #Person2# thinks it will be fine.\n",
            "\n",
            "\n",
            "Summarize the following conversation:\n",
            "#Person1#: Dad, you keep talking about family in New Zealand. Who are they?\n",
            "#Person2#: Well, that's your uncle Bill, his wife and two of their daughters.\n",
            "#Person1#: Is uncle Bill your brother?\n",
            "#Person2#: No, your uncle Jack is my brother, Bill is my brother-in-law, your mom's brother.\n",
            "#Person1#: So his two daughters are my cousins?\n",
            "#Person2#: That's right, Sarah and Jane are both your cousins although they are step-sisters.\n",
            "#Person1#: What are step-sisters?\n",
            "#Person2#: Sarah is your uncle Bill's older daughter. When she was young, Bill's first wife, Sarah's mom died. Three years later Bill married again.\n",
            "#Person1#: So uncle Bill's wife is Jane's mother but not Sarah's mother. Right?\n",
            "#Person2#: Yes. She is Sarah's step-mother.\n",
            "#Person1#: And when are they coming to visit us?\n",
            "#Person2#: They want to travel to Europe next year, and will visit us at the same Ae.\n",
            "Summary: \n"
          ]
        }
      ],
      "source": [
        "#in_context_example_indices = [0, 10, 20] Exceesing number of tokens\n",
        "in_context_example_indices = [10, 20]\n",
        "test_example_index = 800\n",
        "\n",
        "few_shot_prompt = make_prompt(in_context_example_indices, test_example_index)\n",
        "print(few_shot_prompt)"
      ]
    },
    {
      "cell_type": "markdown",
      "id": "bb1afcfc",
      "metadata": {
        "id": "bb1afcfc"
      },
      "source": [
        "Now pass this prompt to the model perform a few shot inference:"
      ]
    },
    {
      "cell_type": "code",
      "execution_count": 118,
      "id": "f989f7ef",
      "metadata": {
        "colab": {
          "base_uri": "https://localhost:8080/"
        },
        "id": "f989f7ef",
        "outputId": "95396b28-bd23-4ca5-b3f8-74a453fcc0b1"
      },
      "outputs": [
        {
          "output_type": "stream",
          "name": "stdout",
          "text": [
            "Generated Summary: <pad> #Person1# is talking to his father about his uncle Bill, his wife and two of their daughters.</s>\n",
            "Actual Summary: #Person2# tells #Person1# about the relationships between their family and the uncle Bill's, who will visit them next year.\n"
          ]
        }
      ],
      "source": [
        "### WRITE YOUR CODE HERE\n",
        "input_ids = tokenizer(few_shot_prompt, return_tensors=\"pt\").input_ids\n",
        "outputs = model.generate(input_ids,max_new_tokens=50)\n",
        "print('Generated Summary: '+tokenizer.decode(outputs[0]))\n",
        "print('Actual Summary: '+dataset['test'][test_example_index]['summary'])"
      ]
    },
    {
      "cell_type": "markdown",
      "id": "e588bf0c",
      "metadata": {
        "id": "e588bf0c"
      },
      "source": [
        "**Exercise:** Experiment with the few-shot inferencing:\n",
        "- Choose different dialogues - change the indices in the `in_context_example_indices` list and `test_example_index` value.\n",
        "- Change the number of examples. Be sure to stay within the model's 512 context length, however.\n",
        "\n",
        "How well does few-shot inference work with other examples?"
      ]
    },
    {
      "cell_type": "code",
      "execution_count": 119,
      "id": "02c26eaa",
      "metadata": {
        "colab": {
          "base_uri": "https://localhost:8080/"
        },
        "id": "02c26eaa",
        "outputId": "1cd19eb3-8317-4fe7-869e-8d01b742771c"
      },
      "outputs": [
        {
          "output_type": "stream",
          "name": "stdout",
          "text": [
            "Generated Summary: <pad> #Person2# is looking for a job. He is currently paid 1,800 yuan a month. #Person1# is willing to pay him 2,500 yuan a month.</s>\n",
            "Actual Summary: Mr. Brown decides to hire #Person2# with a higher salary and other benefits.\n"
          ]
        }
      ],
      "source": [
        "### WRITE YOUR CODE HERE\n",
        "in_context_example_indices = [15, 23]\n",
        "test_example_index = 812\n",
        "\n",
        "few_shot_prompt = make_prompt(in_context_example_indices, test_example_index)\n",
        "\n",
        "input_ids = tokenizer(few_shot_prompt, return_tensors=\"pt\").input_ids\n",
        "outputs = model.generate(input_ids,max_new_tokens=50)\n",
        "print('Generated Summary: '+tokenizer.decode(outputs[0]))\n",
        "print('Actual Summary: '+dataset['test'][test_example_index]['summary'])\n"
      ]
    },
    {
      "cell_type": "code",
      "source": [
        "### Experimenting with shorter conversations to increase number of examples\n",
        "in_context_example_indices = [555,556,557]\n",
        "test_example_index = 812\n",
        "\n",
        "few_shot_prompt = make_prompt(in_context_example_indices, test_example_index)\n",
        "\n",
        "input_ids = tokenizer(few_shot_prompt, return_tensors=\"pt\").input_ids\n",
        "outputs = model.generate(input_ids,max_new_tokens=50)\n",
        "print('Generated Summary: '+tokenizer.decode(outputs[0]))\n",
        "print('Actual Summary: '+dataset['test'][test_example_index]['summary'])"
      ],
      "metadata": {
        "colab": {
          "base_uri": "https://localhost:8080/"
        },
        "id": "90ZxWLhqlj1q",
        "outputId": "da8b08c3-0bf6-49ac-ac8c-0ab7d9317f5d"
      },
      "id": "90ZxWLhqlj1q",
      "execution_count": 120,
      "outputs": [
        {
          "output_type": "stream",
          "name": "stdout",
          "text": [
            "Generated Summary: <pad> #Person2# is looking for a job. #Person1# is looking for a secretary. #Person2# is currently paid 1,800 yuan a month. #Person1# is looking for\n",
            "Actual Summary: Mr. Brown decides to hire #Person2# with a higher salary and other benefits.\n"
          ]
        }
      ]
    },
    {
      "cell_type": "code",
      "source": [
        "# Seems like prompting with small conversations worsens summarization quality"
      ],
      "metadata": {
        "id": "4iCzhtjapebA"
      },
      "id": "4iCzhtjapebA",
      "execution_count": 121,
      "outputs": []
    },
    {
      "cell_type": "code",
      "source": [
        "### Experimenting with big conversation\n",
        "in_context_example_indices = [1302]\n",
        "test_example_index = 812\n",
        "\n",
        "few_shot_prompt = make_prompt(in_context_example_indices, test_example_index)\n",
        "\n",
        "input_ids = tokenizer(few_shot_prompt, return_tensors=\"pt\").input_ids\n",
        "outputs = model.generate(input_ids,max_new_tokens=50)\n",
        "print(tokenizer.decode(outputs[0]))\n",
        "print('Actual Summary: '+dataset['test'][test_example_index]['summary'])"
      ],
      "metadata": {
        "colab": {
          "base_uri": "https://localhost:8080/"
        },
        "id": "H_jq3bOFpmve",
        "outputId": "465ae85b-f0ed-44b1-85d5-55e401640b58"
      },
      "id": "H_jq3bOFpmve",
      "execution_count": 122,
      "outputs": [
        {
          "output_type": "stream",
          "name": "stdout",
          "text": [
            "<pad> Mr. Brown is looking for a secretary to work for him.</s>\n",
            "Actual Summary: Mr. Brown decides to hire #Person2# with a higher salary and other benefits.\n"
          ]
        }
      ]
    },
    {
      "cell_type": "markdown",
      "id": "fd99b9cf",
      "metadata": {
        "id": "fd99b9cf"
      },
      "source": [
        "### 6. Generative Configuration Parameters for Inference\n",
        "\n",
        "You can change the configuration parameters of the `generate()` method to see a different output from the LLM. So far the only parameter that you have been setting was `max_new_tokens=50`, which defines the maximum number of tokens to generate. A convenient way of organizing the configuration parameters is to use `GenerationConfig` class. By setting the parameter `do_sample = True`, you can activate various decoding strategies which influence the next token from the probability distribution over the entire vocabulary. You can then adjust the outputs changing `temperature` and other parameters (such as `top_k` and `top_p`). A full list of available parameters can be found in the [Hugging Face Generation documentation](https://huggingface.co/docs/transformers/v4.29.1/en/main_classes/text_generation#transformers.GenerationConfig)."
      ]
    },
    {
      "cell_type": "markdown",
      "id": "6a2a66a1",
      "metadata": {
        "id": "6a2a66a1"
      },
      "source": [
        "**Exercise:** Change the configuration parameters to investigate their influence on the output. Analyze your results."
      ]
    },
    {
      "cell_type": "code",
      "execution_count": 135,
      "id": "487c7c65",
      "metadata": {
        "id": "487c7c65"
      },
      "outputs": [],
      "source": [
        "### WRITE YOUR CODE HERE\n",
        "from transformers import GenerationConfig\n",
        "config1 = GenerationConfig.from_pretrained(model_name,max_new_tokens=50,do_sample=True,temperature=0.2,top_k=20)\n",
        "config2 = GenerationConfig.from_pretrained(model_name,max_new_tokens=50,do_sample=True,temperature=0.2,top_p=0.85, num_beams=3)\n",
        "config3 = GenerationConfig.from_pretrained(model_name,max_new_tokens=50,do_sample=False, num_beams=4,num_beam_groups=2,diversity_penalty=0.2)\n"
      ]
    },
    {
      "cell_type": "code",
      "source": [
        "in_context_example_indices = [10, 20]\n",
        "test_example_index = 800\n",
        "\n",
        "few_shot_prompt = make_prompt(in_context_example_indices, test_example_index)\n",
        "\n",
        "input_ids = tokenizer(few_shot_prompt, return_tensors=\"pt\").input_ids\n",
        "\n",
        "o1 = model.generate(input_ids,**config1.to_dict())\n",
        "print('Generated Summary: '+tokenizer.decode(o1[0]) +'\\n')\n",
        "\n",
        "o2 = model.generate(input_ids,**config2.to_dict())\n",
        "print('Generated Summary: '+tokenizer.decode(o2[0])+'\\n')\n",
        "\n",
        "o3 = model.generate(input_ids,**config3.to_dict())\n",
        "print('Generated Summary: '+tokenizer.decode(o3[0])+'\\n')\n",
        "\n",
        "\n",
        "print('Actual Summary: '+dataset['test'][test_example_index]['summary'])"
      ],
      "metadata": {
        "colab": {
          "base_uri": "https://localhost:8080/"
        },
        "id": "ioWIODzl0BB_",
        "outputId": "8af309eb-35f1-483d-8db0-8d64f3f0dbe2"
      },
      "id": "ioWIODzl0BB_",
      "execution_count": 136,
      "outputs": [
        {
          "output_type": "stream",
          "name": "stderr",
          "text": [
            "Both `max_new_tokens` (=50) and `max_length`(=20) seem to have been set. `max_new_tokens` will take precedence. Please refer to the documentation for more information. (https://huggingface.co/docs/transformers/main/en/main_classes/text_generation)\n"
          ]
        },
        {
          "output_type": "stream",
          "name": "stdout",
          "text": [
            "Generated Summary: <pad> #Person1#'s father, #Person2#, is visiting his family in New Zealand.</s>\n",
            "\n"
          ]
        },
        {
          "output_type": "stream",
          "name": "stderr",
          "text": [
            "Both `max_new_tokens` (=50) and `max_length`(=20) seem to have been set. `max_new_tokens` will take precedence. Please refer to the documentation for more information. (https://huggingface.co/docs/transformers/main/en/main_classes/text_generation)\n"
          ]
        },
        {
          "output_type": "stream",
          "name": "stdout",
          "text": [
            "Generated Summary: <pad> #Person1# is talking to his father about his uncle Bill, his wife and two of their daughters.</s>\n",
            "\n"
          ]
        },
        {
          "output_type": "stream",
          "name": "stderr",
          "text": [
            "Both `max_new_tokens` (=50) and `max_length`(=20) seem to have been set. `max_new_tokens` will take precedence. Please refer to the documentation for more information. (https://huggingface.co/docs/transformers/main/en/main_classes/text_generation)\n"
          ]
        },
        {
          "output_type": "stream",
          "name": "stdout",
          "text": [
            "Generated Summary: <pad> #Person1#'s father is visiting his family in New Zealand. #Person2#'s uncle Bill, his wife and two of their daughters are his cousins. #Person1#'s cousins are Sarah and\n",
            "\n",
            "Actual Summary: #Person2# tells #Person1# about the relationships between their family and the uncle Bill's, who will visit them next year.\n"
          ]
        }
      ]
    },
    {
      "cell_type": "code",
      "source": [],
      "metadata": {
        "id": "ugxktyEL0JG9"
      },
      "id": "ugxktyEL0JG9",
      "execution_count": null,
      "outputs": []
    }
  ],
  "metadata": {
    "colab": {
      "provenance": []
    },
    "kernelspec": {
      "display_name": "Python 3",
      "name": "python3"
    },
    "language_info": {
      "codemirror_mode": {
        "name": "ipython",
        "version": 3
      },
      "file_extension": ".py",
      "mimetype": "text/x-python",
      "name": "python",
      "nbconvert_exporter": "python",
      "pygments_lexer": "ipython3",
      "version": "3.11.5"
    }
  },
  "nbformat": 4,
  "nbformat_minor": 5
}